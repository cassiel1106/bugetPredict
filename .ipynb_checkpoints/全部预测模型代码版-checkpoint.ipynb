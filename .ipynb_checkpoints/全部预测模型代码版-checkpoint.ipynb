{
 "cells": [
  {
   "cell_type": "code",
   "execution_count": 55,
   "metadata": {
    "scrolled": false
   },
   "outputs": [
    {
     "data": {
      "image/png": "[encoded data removed]",
      "text/plain": [
       "<Figure size 432x288 with 1 Axes>"
      ]
     },
     "metadata": {
      "needs_background": "light"
     },
     "output_type": "display_data"
    }
   ],
   "source": [
    "import numpy as np\n",
    "import math \n",
    "import matplotlib.pyplot as plt \n",
    "y=list(range(len(history_data)))\n",
    "history_data=[724.57,746.62,778.27,800.8,827.75,871.1,912.37,954.28,995.01,1037.2]\n",
    "n=len(history_data)\n",
    "X0=np.array(history_data)\n",
    "plt.plot(y,X0,color='green')\n",
    "#运用累加生成（AGO）\n",
    "history_data_agg=[sum(history_data[0:i+1])for i in range(n)]\n",
    "x1=np.array(history_data_agg)\n",
    "plt.plot(y,x1)\n",
    "plt.show()"
   ]
  },
  {
   "cell_type": "code",
   "execution_count": 56,
   "metadata": {},
   "outputs": [
    {
     "name": "stdout",
     "output_type": "stream",
     "text": [
      "[[-1.097880e+03  1.000000e+00]\n",
      " [-1.860325e+03  1.000000e+00]\n",
      " [-2.649860e+03  1.000000e+00]\n",
      " [-3.464135e+03  1.000000e+00]\n",
      " [-4.313560e+03  1.000000e+00]\n",
      " [-5.205295e+03  1.000000e+00]\n",
      " [-6.138620e+03  1.000000e+00]\n",
      " [-7.113265e+03  1.000000e+00]\n",
      " [-8.129370e+03  1.000000e+00]]\n",
      "[[ 746.62]\n",
      " [ 778.27]\n",
      " [ 800.8 ]\n",
      " [ 827.75]\n",
      " [ 871.1 ]\n",
      " [ 912.37]\n",
      " [ 954.28]\n",
      " [ 995.01]\n",
      " [1037.2 ]]\n"
     ]
    }
   ],
   "source": [
    "#计算数据矩阵B和数据向量Y\n",
    "B=np.zeros([n-1,2])\n",
    "Y=np.zeros([n-1,1])\n",
    "for i in range(0,n-1):\n",
    "    B[i][0]=-0.5*(x1[i]+x1[i+1])\n",
    "    B[i][1]=1\n",
    "    Y[i][0]=X0[i+1]\n",
    "print(B)\n",
    "print(Y)"
   ]
  },
  {
   "cell_type": "code",
   "execution_count": 57,
   "metadata": {},
   "outputs": [
    {
     "name": "stdout",
     "output_type": "stream",
     "text": [
      "-0.041977495531960354\n",
      "693.9402817303178\n"
     ]
    }
   ],
   "source": [
    "#计算GM（1,1）微分方程参数a和u\n",
    "A=np.zeros([2,1])\n",
    "A=np.linalg.inv(B.T.dot(B)).dot(B.T).dot(Y)\n",
    "a=A[0][0]\n",
    "u=A[1][0]\n",
    "print(a)\n",
    "print(u)"
   ]
  },
  {
   "cell_type": "code",
   "execution_count": 58,
   "metadata": {},
   "outputs": [
    {
     "name": "stdout",
     "output_type": "stream",
     "text": [
      "0.18177882057993883\n"
     ]
    }
   ],
   "source": [
    "#建立灰色预测模型\n",
    "XX0=np.zeros(n)\n",
    "XX0[0]=X0[0]\n",
    "for i in range(1,n):\n",
    "    XX0[i]=(X0[0]-u/a)*(1-math.exp(a))*math.exp(-a*(i))\n",
    "    \n",
    "#模型精度的后验差检验\n",
    "e=0  #求残差平均值\n",
    "for i in range(0,n):\n",
    "    e+=(X0[i]-XX0[i])\n",
    "e/=n\n",
    "print(e)"
   ]
  },
  {
   "cell_type": "code",
   "execution_count": 59,
   "metadata": {},
   "outputs": [
    {
     "name": "stdout",
     "output_type": "stream",
     "text": [
      "864.7970000000001\n"
     ]
    }
   ],
   "source": [
    "#求历史数据平均值\n",
    "aver =0\n",
    "for i in range(0,n):\n",
    "    aver+=X0[i]\n",
    "aver/=n\n",
    "print(aver)"
   ]
  },
  {
   "cell_type": "code",
   "execution_count": 60,
   "metadata": {},
   "outputs": [
    {
     "name": "stdout",
     "output_type": "stream",
     "text": [
      "10357.277801\n"
     ]
    }
   ],
   "source": [
    "#求历史数据方差\n",
    "s12=0\n",
    "for i in range(0,n):\n",
    "    s12+=(X0[i]-aver)**2\n",
    "s12/=n\n",
    "print(s12)"
   ]
  },
  {
   "cell_type": "code",
   "execution_count": 61,
   "metadata": {},
   "outputs": [
    {
     "name": "stdout",
     "output_type": "stream",
     "text": [
      "26.811330299279625\n"
     ]
    }
   ],
   "source": [
    "#求残差方差\n",
    "s22=0\n",
    "for i in range(0,n):\n",
    "    s22+=((X0[i]-XX0[i])-e)**2\n",
    "s22/=n\n",
    "print(s22)"
   ]
  },
  {
   "cell_type": "code",
   "execution_count": 62,
   "metadata": {},
   "outputs": [
    {
     "name": "stdout",
     "output_type": "stream",
     "text": [
      "0.0025886464391918673\n"
     ]
    }
   ],
   "source": [
    "#求后验差比值\n",
    "C=s22/s12\n",
    "print(C)"
   ]
  },
  {
   "cell_type": "code",
   "execution_count": 63,
   "metadata": {},
   "outputs": [
    {
     "name": "stdout",
     "output_type": "stream",
     "text": [
      "1.0\n"
     ]
    }
   ],
   "source": [
    "#求最小误差概率\n",
    "cout=0\n",
    "for i in range(0,n):\n",
    "    if abs((X0[i]-XX0[i])-e) < 0.6754*math.sqrt(s12):\n",
    "        cout=cout+1\n",
    "    else:\n",
    "        cout=cout\n",
    "p=cout/n\n",
    "print(p)"
   ]
  },
  {
   "cell_type": "code",
   "execution_count": 66,
   "metadata": {},
   "outputs": [
    {
     "name": "stdout",
     "output_type": "stream",
     "text": [
      "[1079.38044724]\n"
     ]
    }
   ],
   "source": [
    "if (C<0.35 and p >0.95):\n",
    "    #预测精度为一级\n",
    "    m=1 #请输入需要预测的年数\n",
    "    #print('往后各年负荷为:')\n",
    "    f=np.zeros(m)\n",
    "    for i in range(0,m):\n",
    "        f[i]=(X0[0]-u/a)*(1-math.exp(a))*math.exp(-a*(i+n))\n",
    "    print(f)\n",
    "else:\n",
    "    print('灰度预测法不适用')"
   ]
  },
  {
   "cell_type": "code",
   "execution_count": null,
   "metadata": {},
   "outputs": [],
   "source": []
  }
 ],
 "metadata": {
  "kernelspec": {
   "display_name": "Python 3",
   "language": "python",
   "name": "python3"
  },
  "language_info": {
   "codemirror_mode": {
    "name": "ipython",
    "version": 3
   },
   "file_extension": ".py",
   "mimetype": "text/x-python",
   "name": "python",
   "nbconvert_exporter": "python",
   "pygments_lexer": "ipython3",
   "version": "3.7.0"
  }
 },
 "nbformat": 4,
 "nbformat_minor": 2
}
