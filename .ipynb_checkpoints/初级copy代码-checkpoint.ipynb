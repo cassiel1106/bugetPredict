{
 "cells": [
  {
   "cell_type": "code",
   "execution_count": 20,
   "metadata": {},
   "outputs": [],
   "source": [
    "import numpy as np\n",
    "import math \n",
    "import matplotlib.pyplot as plt \n",
    "history_data=[724.57,746.62,778.27,800.8,827.75,871.1,912.37,954.28,995.01,1037.2]\n",
    "n=len(history_data)\n",
    "X0=np.array(history_data)\n",
    "#进行级比检验,判断是否能使用模型预测\n",
    "L=[X0[i-1]/X0[i] for i in range(1,n)]\n",
    "lmin=math.exp(-(2/(n+1)))\n",
    "lmax=math.exp(2/(n+1))\n",
    "for l in L:\n",
    "    if lmin <l<lmax:\n",
    "        continue\n",
    "    else:\n",
    "        print('数据不可进行高精度GM(1,1)模型预测')"
   ]
  },
  {
   "cell_type": "code",
   "execution_count": 22,
   "metadata": {},
   "outputs": [],
   "source": [
    "#运用累加生成（AGO）\n",
    "history_data_agg=[sum(history_data[0:i+1])for i in range(n)]\n",
    "x1=np.array(history_data_agg)"
   ]
  },
  {
   "cell_type": "code",
   "execution_count": 23,
   "metadata": {},
   "outputs": [
    {
     "name": "stdout",
     "output_type": "stream",
     "text": [
      "[[-1.097880e+03  1.000000e+00]\n",
      " [-1.860325e+03  1.000000e+00]\n",
      " [-2.649860e+03  1.000000e+00]\n",
      " [-3.464135e+03  1.000000e+00]\n",
      " [-4.313560e+03  1.000000e+00]\n",
      " [-5.205295e+03  1.000000e+00]\n",
      " [-6.138620e+03  1.000000e+00]\n",
      " [-7.113265e+03  1.000000e+00]\n",
      " [-8.129370e+03  1.000000e+00]]\n",
      "[[ 746.62]\n",
      " [ 778.27]\n",
      " [ 800.8 ]\n",
      " [ 827.75]\n",
      " [ 871.1 ]\n",
      " [ 912.37]\n",
      " [ 954.28]\n",
      " [ 995.01]\n",
      " [1037.2 ]]\n"
     ]
    }
   ],
   "source": [
    "#计算数据矩阵B和数据向量Y\n",
    "B=np.zeros([n-1,2])\n",
    "Y=np.zeros([n-1,1])\n",
    "for i in range(0,n-1):\n",
    "    B[i][0]=-0.5*(x1[i]+x1[i+1])\n",
    "    B[i][1]=1\n",
    "    Y[i][0]=X0[i+1]\n",
    "print(B)\n",
    "print(Y)"
   ]
  },
  {
   "cell_type": "code",
   "execution_count": 24,
   "metadata": {},
   "outputs": [
    {
     "name": "stdout",
     "output_type": "stream",
     "text": [
      "-0.041977495531960354\n",
      "693.9402817303178\n"
     ]
    }
   ],
   "source": [
    "#计算GM（1,1）微分方程参数a和u\n",
    "A=np.zeros([2,1])\n",
    "A=np.linalg.inv(B.T.dot(B)).dot(B.T).dot(Y)\n",
    "a=A[0][0]\n",
    "u=A[1][0]\n",
    "print(a)\n",
    "print(u)"
   ]
  },
  {
   "cell_type": "markdown",
   "metadata": {},
   "source": [
    "#建立灰色预测模型\n",
    "xx1[0]=X0[0]\n",
    "XX0[0]=X0[0]\n",
    "for k in range(1,n)\n",
    "xx1[k]=(X0[0]-u/a)*math.exp(-a*(k))+u/a\n",
    "XX0[k]=xx1[k]-xx1[k-1]\n",
    "经过计算后得到下面的"
   ]
  },
  {
   "cell_type": "code",
   "execution_count": 25,
   "metadata": {},
   "outputs": [],
   "source": [
    "XX0=np.zeros(n)\n",
    "XX0[0]=X0[0]\n",
    "for i in range(1,n):\n",
    "    XX0[i]=(X0[0]-u/a)*(1-math.exp(a))*math.exp(-a*(i))"
   ]
  },
  {
   "cell_type": "code",
   "execution_count": 28,
   "metadata": {},
   "outputs": [
    {
     "name": "stdout",
     "output_type": "stream",
     "text": [
      "26.811330299279625\n"
     ]
    }
   ],
   "source": [
    "#模型精度检测\n",
    "#求残差平均值\n",
    "e=0  \n",
    "for i in range(0,n):\n",
    "    e+=(X0[i]-XX0[i])\n",
    "e/=n\n",
    "#求残差方差\n",
    "s22=0\n",
    "for i in range(0,n):\n",
    "    s22+=((X0[i]-XX0[i])-e)**2\n",
    "s22/=n\n",
    "print(s22)"
   ]
  },
  {
   "cell_type": "code",
   "execution_count": 29,
   "metadata": {},
   "outputs": [
    {
     "name": "stdout",
     "output_type": "stream",
     "text": [
      "10357.277801\n"
     ]
    }
   ],
   "source": [
    "#求历史数据平均值\n",
    "aver =0\n",
    "for i in range(0,n):\n",
    "    aver+=X0[i]\n",
    "aver/=n\n",
    "#求历史数据方差\n",
    "s12=0\n",
    "for i in range(0,n):\n",
    "    s12+=(X0[i]-aver)**2\n",
    "s12/=n\n",
    "print(s12)#方差"
   ]
  },
  {
   "cell_type": "code",
   "execution_count": 31,
   "metadata": {},
   "outputs": [
    {
     "name": "stdout",
     "output_type": "stream",
     "text": [
      "0.0025886464391918673\n"
     ]
    }
   ],
   "source": [
    "#求后验差比值\n",
    "C=s22/s12\n",
    "print(C)"
   ]
  },
  {
   "cell_type": "code",
   "execution_count": 32,
   "metadata": {},
   "outputs": [
    {
     "name": "stdout",
     "output_type": "stream",
     "text": [
      "1.0\n"
     ]
    }
   ],
   "source": [
    "cout=0\n",
    "for i in range(0,n):\n",
    "    if abs((X0[i]-XX0[i])-e) < 0.6754*math.sqrt(s12):\n",
    "        cout=cout+1\n",
    "    else:\n",
    "        cout=cout\n",
    "p=cout/n\n",
    "print(p)"
   ]
  },
  {
   "cell_type": "code",
   "execution_count": 62,
   "metadata": {},
   "outputs": [
    {
     "name": "stdout",
     "output_type": "stream",
     "text": [
      "[1035.00858465 1079.38044724 1125.65457636 1173.91252409]\n"
     ]
    }
   ],
   "source": [
    "if (C<0.35 and p >0.95):\n",
    "    #预测精度为一级\n",
    "    m=4\n",
    "    #请输入需要预测的年数\n",
    "    #print('往后各年负荷为:')\n",
    "    f=np.zeros(m)\n",
    "    for i in range(0,m):\n",
    "        f[i]=(X0[0]-u/a)*(1-math.exp(a))*math.exp(-a*(i+n))\n",
    "    print(f)\n",
    "else:\n",
    "    print('灰度预测法不适用')"
   ]
  },
  {
   "cell_type": "code",
   "execution_count": null,
   "metadata": {},
   "outputs": [],
   "source": [
    "以上的代码进行了后验差检验和残差检验"
   ]
  },
  {
   "cell_type": "code",
   "execution_count": 71,
   "metadata": {},
   "outputs": [
    {
     "name": "stdout",
     "output_type": "stream",
     "text": [
      "[0.012078039948577146, 0.0004666166275877348, 0.013536744101253051, 0.008923290103882486, 0.009021007493564381, 0.004295913537730622, 0.002923576638846015, 0.000188020990471216, 0.0004564991014397446]\n"
     ]
    }
   ],
   "source": [
    "#进行级比偏差值检验\n",
    "a=-0.041977495531960354\n",
    "P=[abs((1-(1-0.5*a)/(1+0.5*a)*l)) for l in L]\n",
    "print(P)"
   ]
  },
  {
   "cell_type": "markdown",
   "metadata": {},
   "source": [
    "对所有的P，绝对值小于0.1，则达到最好，小于0.2，则达到一般要求"
   ]
  },
  {
   "cell_type": "code",
   "execution_count": 36,
   "metadata": {},
   "outputs": [
    {
     "name": "stdout",
     "output_type": "stream",
     "text": [
      "[0.0, 6.8457768733799185, 6.780909326058804, -3.76360660059197, -11.306060404791538, -3.927240514375171, -0.17054141842857007, 2.6179246082357395, 2.549210990861752, 2.191415345450423]\n"
     ]
    }
   ],
   "source": [
    "#计算绝对误差 \n",
    "e=[]\n",
    "for i in range(0,n):\n",
    "    e.append(X0[i]-XX0[i])\n",
    "print(e)"
   ]
  },
  {
   "cell_type": "code",
   "execution_count": 42,
   "metadata": {},
   "outputs": [
    {
     "name": "stdout",
     "output_type": "stream",
     "text": [
      "[0.0, 0.9169024233719856, 0.8712798034176834, -0.46998084422976655, -1.3658786354323815, -0.4508369319682208, -0.018692133501602426, 0.27433505975559996, 0.25619953476465085, 0.21128184973490385]\n"
     ]
    }
   ],
   "source": [
    "#计算相对残差\n",
    "omg=[]\n",
    "for i in range(0,n):\n",
    "    omg.append(e[i]/X0[i]*100)\n",
    "print(omg)"
   ]
  },
  {
   "cell_type": "markdown",
   "metadata": {},
   "source": [
    "omg[i]一般要求小于20%，最好是小于10%，经观察，满足"
   ]
  },
  {
   "cell_type": "code",
   "execution_count": 56,
   "metadata": {},
   "outputs": [
    {
     "name": "stdout",
     "output_type": "stream",
     "text": [
      "0.9942198682919476\n"
     ]
    }
   ],
   "source": [
    "#求出相对误差的均值\n",
    "eomg=0\n",
    "for i in range(0,n):\n",
    "    eomg+=abs(e[i]/X0[i])\n",
    "eavg=eomg/(n-1)\n",
    "#计算精度值P\n",
    "p=1-eavg\n",
    "print(p)"
   ]
  },
  {
   "cell_type": "markdown",
   "metadata": {},
   "source": [
    "一般要求p大于80%，最好是大于90%"
   ]
  },
  {
   "cell_type": "code",
   "execution_count": 79,
   "metadata": {},
   "outputs": [
    {
     "name": "stdout",
     "output_type": "stream",
     "text": [
      "[1079.38044724]\n"
     ]
    }
   ],
   "source": [
    "#进行预测\n",
    "f=np.zeros(m)\n",
    "m=1\n",
    "for i in range(0,m):\n",
    "    f[i]=(X0[0]-u/a)*(1-math.exp(a))*math.exp(-a*(i+n+1))\n",
    "print(f)"
   ]
  }
 ],
 "metadata": {
  "kernelspec": {
   "display_name": "Python 3",
   "language": "python",
   "name": "python3"
  },
  "language_info": {
   "codemirror_mode": {
    "name": "ipython",
    "version": 3
   },
   "file_extension": ".py",
   "mimetype": "text/x-python",
   "name": "python",
   "nbconvert_exporter": "python",
   "pygments_lexer": "ipython3",
   "version": "3.7.0"
  }
 },
 "nbformat": 4,
 "nbformat_minor": 2
}
